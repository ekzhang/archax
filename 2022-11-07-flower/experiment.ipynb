{
 "cells": [
  {
   "cell_type": "markdown",
   "metadata": {},
   "source": [
    "# Embedding image data on CPU/GPU"
   ]
  },
  {
   "cell_type": "code",
   "execution_count": 2,
   "metadata": {},
   "outputs": [],
   "source": [
    "import os\n",
    "import pandas as pd\n",
    "import json\n",
    "import matplotlib.pyplot as plt\n",
    "import numpy as np\n",
    "from tqdm.notebook import tqdm"
   ]
  },
  {
   "cell_type": "markdown",
   "metadata": {},
   "source": [
    "## Perform measurements"
   ]
  },
  {
   "cell_type": "code",
   "execution_count": 5,
   "metadata": {},
   "outputs": [],
   "source": [
    "num_trials = 20\n",
    "num_samples = np.linspace(500, 3000, 6).astype(int)\n",
    "trial_dir = 'trials'\n",
    "\n",
    "_ = os.system('mkdir -p {}'.format(trial_dir))"
   ]
  },
  {
   "cell_type": "code",
   "execution_count": null,
   "metadata": {},
   "outputs": [],
   "source": [
    "pbar = tqdm(total = len(num_samples) * 2)\n",
    "\n",
    "curr = 0\n",
    "for num_sample in num_samples:\n",
    "    for device in ['cpu', 'gpu']:\n",
    "        pbar.update(1)\n",
    "        output_path = os.path.join(trial_dir, \"{}.json\".format(curr))\n",
    "        cmd = 'python3 perform_embedding.py -s {} -d {} -o {} -t {}'.format(\n",
    "            num_sample,\n",
    "            device,\n",
    "            output_path,\n",
    "            num_trials\n",
    "        )\n",
    "        os.system(cmd)\n",
    "        curr += 1\n",
    "\n",
    "pbar.close()"
   ]
  }
 ],
 "metadata": {
  "kernelspec": {
   "display_name": "Python 3.9.13 ('cs243')",
   "language": "python",
   "name": "python3"
  },
  "language_info": {
   "codemirror_mode": {
    "name": "ipython",
    "version": 3
   },
   "file_extension": ".py",
   "mimetype": "text/x-python",
   "name": "python",
   "nbconvert_exporter": "python",
   "pygments_lexer": "ipython3",
   "version": "3.9.13"
  },
  "orig_nbformat": 4,
  "vscode": {
   "interpreter": {
    "hash": "a66fd40cf6f40cad34b915c44c712640562bf92cc473f75e62b9772cb24f384d"
   }
  }
 },
 "nbformat": 4,
 "nbformat_minor": 2
}
